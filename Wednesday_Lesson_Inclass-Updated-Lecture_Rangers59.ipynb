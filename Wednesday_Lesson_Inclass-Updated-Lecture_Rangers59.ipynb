{
 "cells": [
  {
   "cell_type": "markdown",
   "metadata": {},
   "source": [
    "# Data Collections 2 (Dictionaries, Sets) and Importing Modules"
   ]
  },
  {
   "cell_type": "markdown",
   "metadata": {},
   "source": [
    "## Tasks Today:\n",
    "\n",
    "1) Dictionary <br>\n",
    " &nbsp;&nbsp;&nbsp;&nbsp; a) Declaring (key, value) <br>\n",
    " &nbsp;&nbsp;&nbsp;&nbsp; b) Accessing Values <br>\n",
    " &nbsp;&nbsp;&nbsp;&nbsp; ------ Exercise #1 - Print the eye color of each person in a double nested dict <br>\n",
    " &nbsp;&nbsp;&nbsp;&nbsp; c) Adding New Pairs <br>\n",
    " &nbsp;&nbsp;&nbsp;&nbsp; d) Modifying Values <br>\n",
    " &nbsp;&nbsp;&nbsp;&nbsp; e) Removing Key, Value Pairs <br>\n",
    " &nbsp;&nbsp;&nbsp;&nbsp; f) Looping a Dictionary <br>\n",
    " &nbsp;&nbsp;&nbsp;&nbsp; g) Looping Only Keys <br>\n",
    " &nbsp;&nbsp;&nbsp;&nbsp; h) Looping Only Values <br>\n",
    " &nbsp;&nbsp;&nbsp;&nbsp; ------ Exercise #2 - Create a Function that Prints All Key Value Pairs within a print .format()  <br>\n",
    " &nbsp;&nbsp;&nbsp;&nbsp; i) sorted() <br>\n",
    " &nbsp;&nbsp;&nbsp;&nbsp; j) Lists with Dictionaries <br>\n",
    " &nbsp;&nbsp;&nbsp;&nbsp; k) Dictionaries with Lists <br>\n",
    " &nbsp;&nbsp;&nbsp;&nbsp; l) Dictionaries with Dictionaries <br>\n",
    " &nbsp;&nbsp;&nbsp;&nbsp; ------ Exercise #3 - Write a Function that asks someone's name and address, and then stores that into a dictionary, which prints all names and addresses after they're done putting information in...  <br>\n",
    "2) Dictionaries vs. Lists (over time)<br>\n",
    "3) Set <br>\n",
    " &nbsp;&nbsp;&nbsp;&nbsp; a) Declaring <br>\n",
    " &nbsp;&nbsp;&nbsp;&nbsp; b) .add() <br>\n",
    " &nbsp;&nbsp;&nbsp;&nbsp; c) .remove() <br>\n",
    " &nbsp;&nbsp;&nbsp;&nbsp; d) .union() <br>\n",
    " &nbsp;&nbsp;&nbsp;&nbsp; e) .intersection() <br>\n",
    " &nbsp;&nbsp;&nbsp;&nbsp; f) .difference() <br>\n",
    " &nbsp;&nbsp;&nbsp;&nbsp; g) Frozen Set <br>\n",
    "4) Modules <br>\n",
    " &nbsp;&nbsp;&nbsp;&nbsp; a) Importing Entire Modules <br>\n",
    " &nbsp;&nbsp;&nbsp;&nbsp; b) Importing Methods Only <br>\n",
    " &nbsp;&nbsp;&nbsp;&nbsp; c) Using the 'as' Keyword <br>\n",
    " &nbsp;&nbsp;&nbsp;&nbsp; d) Creating a Module <br>\n",
    "5) Exercises <br>\n",
    " &nbsp;&nbsp;&nbsp;&nbsp; a) Build a Shopping Cart <br>\n",
    " &nbsp;&nbsp;&nbsp;&nbsp; b) Create Your Own Module <br>"
   ]
  },
  {
   "cell_type": "markdown",
   "metadata": {},
   "source": [
    "## Dictionary <br>\n",
    "<p>A collection of data with 'key:value' pairs. Dictionaries are ordered as of Python 3.6</p>"
   ]
  },
  {
   "cell_type": "markdown",
   "metadata": {},
   "source": [
    "##### Declaring (key, value)"
   ]
  },
  {
   "cell_type": "code",
   "execution_count": null,
   "metadata": {},
   "outputs": [],
   "source": [
    "my_dict = {}\n",
    "\n",
    "another_dict = dict()\n",
    "\n",
    "type(my_dict)\n",
    "\n",
    "isinstance(another_dict, dict)"
   ]
  },
  {
   "cell_type": "markdown",
   "metadata": {},
   "source": [
    "##### Accessing Values"
   ]
  },
  {
   "cell_type": "code",
   "execution_count": 1,
   "metadata": {},
   "outputs": [
    {
     "data": {
      "text/plain": [
       "'sean'"
      ]
     },
     "execution_count": 1,
     "metadata": {},
     "output_type": "execute_result"
    }
   ],
   "source": [
    "my_dict = {'class':'Matrix-123','instructors':('sean','dylan')}\n",
    "\n",
    "#cannot index into dict\n",
    "#my_dict[0]\n",
    "\n",
    "my_dict['class']\n",
    "\n",
    "my_dict['instructors']\n",
    "\n",
    "my_dict['instructors'][0]"
   ]
  },
  {
   "cell_type": "code",
   "execution_count": 15,
   "metadata": {},
   "outputs": [
    {
     "ename": "AttributeError",
     "evalue": "'list' object has no attribute 'get'",
     "output_type": "error",
     "traceback": [
      "\u001b[1;31m---------------------------------------------------------------------------\u001b[0m",
      "\u001b[1;31mAttributeError\u001b[0m                            Traceback (most recent call last)",
      "Cell \u001b[1;32mIn[15], line 5\u001b[0m\n\u001b[0;32m      1\u001b[0m \u001b[38;5;66;03m#Get Method\u001b[39;00m\n\u001b[0;32m      2\u001b[0m \n\u001b[0;32m      3\u001b[0m \u001b[38;5;66;03m#<dict>.get(<key>, <optional default value if key doesnt exist>)\u001b[39;00m\n\u001b[1;32m----> 5\u001b[0m \u001b[43msean_car_dict\u001b[49m\u001b[38;5;241;43m.\u001b[39;49m\u001b[43mget\u001b[49m(\u001b[38;5;124m'\u001b[39m\u001b[38;5;124mmake\u001b[39m\u001b[38;5;124m'\u001b[39m)\n\u001b[0;32m      7\u001b[0m sean_car_dict\u001b[38;5;241m.\u001b[39mget(\u001b[38;5;124m'\u001b[39m\u001b[38;5;124myear\u001b[39m\u001b[38;5;124m'\u001b[39m, \u001b[38;5;241m2020\u001b[39m)\n\u001b[0;32m      9\u001b[0m \u001b[38;5;28mprint\u001b[39m(sean_car_dict)\n",
      "\u001b[1;31mAttributeError\u001b[0m: 'list' object has no attribute 'get'"
     ]
    }
   ],
   "source": [
    "#Get Method\n",
    "\n",
    "#<dict>.get(<key>, <optional default value if key doesnt exist>)\n",
    "\n",
    "sean_car_dict.get('make')\n",
    "\n",
    "sean_car_dict.get('year', 2020)\n",
    "\n",
    "print(sean_car_dict)"
   ]
  },
  {
   "cell_type": "markdown",
   "metadata": {},
   "source": [
    "## In-Class Exercise #1 - Print a formatted statement from the dictionary below <br>\n",
    "<p>The output should be '2018 Chevrolet Silverado'</p>"
   ]
  },
  {
   "cell_type": "code",
   "execution_count": 3,
   "metadata": {},
   "outputs": [
    {
     "name": "stdout",
     "output_type": "stream",
     "text": [
      "2018 Chevrolet Silverado\n"
     ]
    }
   ],
   "source": [
    "# use the dict below\n",
    "truck = {\n",
    "    'year': 2018,\n",
    "    'make': 'Chevrolet',\n",
    "    'model': 'Silverado'\n",
    "}\n",
    "\n",
    "print(f\"{truck['year']} {truck['make']} {truck['model']}\")\n",
    "\n"
   ]
  },
  {
   "cell_type": "code",
   "execution_count": 6,
   "metadata": {},
   "outputs": [
    {
     "name": "stdout",
     "output_type": "stream",
     "text": [
      "honda fit\n",
      "red x\n"
     ]
    }
   ],
   "source": [
    "dylan_car = ['honda','2007', 'fit', 'white']\n",
    "\n",
    "sean_car = ['red','tesla','x','2022','electric']\n",
    "\n",
    "def car_info(car_list):\n",
    "    print(f'{car_list[0]} {car_list[2]}')\n",
    "\n",
    "car_info(dylan_car)\n",
    "\n",
    "car_info(sean_car)"
   ]
  },
  {
   "cell_type": "code",
   "execution_count": 19,
   "metadata": {},
   "outputs": [
    {
     "name": "stdout",
     "output_type": "stream",
     "text": [
      "honda fit\n",
      "tesla fit\n"
     ]
    }
   ],
   "source": [
    "dylan_car_dict = {'make':'honda','model':'fit'}\n",
    "\n",
    "#{} used for dict\n",
    "#[] used for list\n",
    "#\"\" used for strings\n",
    "#() used for tuples\n",
    "\n",
    "sean_car_dict = {'model':'fit','make':'tesla'}\n",
    "\n",
    "def car_info(car_dict):\n",
    "    print(f'{car_dict[\"make\"]} {car_dict[\"model\"]}')\n",
    "\n",
    "car_info(dylan_car_dict)\n",
    "\n",
    "car_info(sean_car_dict)"
   ]
  },
  {
   "cell_type": "markdown",
   "metadata": {},
   "source": [
    "##### Adding New Pairs"
   ]
  },
  {
   "cell_type": "code",
   "execution_count": 20,
   "metadata": {},
   "outputs": [
    {
     "name": "stdout",
     "output_type": "stream",
     "text": [
      "{'make': 'honda', 'model': 'fit'}\n",
      "{'make': 'honda', 'model': 'fit', 'year': 2006}\n"
     ]
    }
   ],
   "source": [
    "print(dylan_car_dict)\n",
    "\n",
    "dylan_car_dict['year'] = 2006\n",
    "\n",
    "print(dylan_car_dict)"
   ]
  },
  {
   "cell_type": "markdown",
   "metadata": {},
   "source": [
    "##### Modifying Values"
   ]
  },
  {
   "cell_type": "code",
   "execution_count": 21,
   "metadata": {},
   "outputs": [
    {
     "name": "stdout",
     "output_type": "stream",
     "text": [
      "{'make': 'honda', 'model': 'fit', 'year': 2006, 'color': 'white'}\n"
     ]
    }
   ],
   "source": [
    "dylan_car_dict['color'] = 'white'\n",
    "\n",
    "print(dylan_car_dict)"
   ]
  },
  {
   "cell_type": "code",
   "execution_count": 22,
   "metadata": {},
   "outputs": [
    {
     "name": "stdout",
     "output_type": "stream",
     "text": [
      "{'make': 'honda', 'model': 'fit', 'year': 2006, 'color': 'hot pink'}\n"
     ]
    }
   ],
   "source": [
    "dylan_car_dict['color'] = 'hot pink'\n",
    "\n",
    "print(dylan_car_dict)"
   ]
  },
  {
   "cell_type": "markdown",
   "metadata": {},
   "source": [
    "##### Removing Key, Value Pairs"
   ]
  },
  {
   "cell_type": "code",
   "execution_count": 23,
   "metadata": {},
   "outputs": [
    {
     "name": "stdout",
     "output_type": "stream",
     "text": [
      "{'make': 'honda', 'model': 'fit', 'year': 2006}\n"
     ]
    }
   ],
   "source": [
    "#del\n",
    "\n",
    "del dylan_car_dict['color']\n",
    "print(dylan_car_dict)"
   ]
  },
  {
   "cell_type": "code",
   "execution_count": 40,
   "metadata": {},
   "outputs": [
    {
     "name": "stdout",
     "output_type": "stream",
     "text": [
      "{'model': 'fit', 'make': 'tesla'}\n"
     ]
    },
    {
     "ename": "KeyError",
     "evalue": "'year'",
     "output_type": "error",
     "traceback": [
      "\u001b[1;31m---------------------------------------------------------------------------\u001b[0m",
      "\u001b[1;31mKeyError\u001b[0m                                  Traceback (most recent call last)",
      "Cell \u001b[1;32mIn[40], line 5\u001b[0m\n\u001b[0;32m      1\u001b[0m \u001b[38;5;66;03m# .pop()\u001b[39;00m\n\u001b[0;32m      3\u001b[0m \u001b[38;5;28mprint\u001b[39m(sean_car_dict)\n\u001b[1;32m----> 5\u001b[0m \u001b[43msean_car_dict\u001b[49m\u001b[38;5;241;43m.\u001b[39;49m\u001b[43mpop\u001b[49m\u001b[43m(\u001b[49m\u001b[38;5;124;43m'\u001b[39;49m\u001b[38;5;124;43myear\u001b[39;49m\u001b[38;5;124;43m'\u001b[39;49m\u001b[43m)\u001b[49m\n\u001b[0;32m      7\u001b[0m \u001b[38;5;28mprint\u001b[39m(sean_car_dict)\n\u001b[0;32m      9\u001b[0m sean_make \u001b[38;5;241m=\u001b[39m sean_car_dict_pop(\u001b[38;5;124m'\u001b[39m\u001b[38;5;124mmake\u001b[39m\u001b[38;5;124m'\u001b[39m)\n",
      "\u001b[1;31mKeyError\u001b[0m: 'year'"
     ]
    }
   ],
   "source": [
    "# .pop()\n",
    "\n",
    "print(sean_car_dict)\n",
    "\n",
    "sean_car_dict.pop('year')\n",
    "\n",
    "print(sean_car_dict)\n",
    "\n",
    "sean_make = sean_car_dict_pop('make')\n",
    "\n",
    "print(sean_make)"
   ]
  },
  {
   "cell_type": "markdown",
   "metadata": {},
   "source": [
    "##### Looping a Dictionary"
   ]
  },
  {
   "cell_type": "code",
   "execution_count": null,
   "metadata": {},
   "outputs": [],
   "source": [
    "# .items()\n",
    "# a, b, c = 1, 2, 3\n",
    "# print(a)\n",
    "# print(b)\n",
    "# print(c)\n",
    "\n",
    "dylan_car_dict.items()\n",
    "\n",
    "for item in dylan_car_dict.items():\n",
    "    print(f'{item[0]} {item[1]}')\n",
    "    \n",
    "for k,v in dylan_car_dict.items():\n",
    "    print(f'{k} {v}')\n"
   ]
  },
  {
   "cell_type": "markdown",
   "metadata": {},
   "source": [
    "##### Looping Only Keys"
   ]
  },
  {
   "cell_type": "code",
   "execution_count": 25,
   "metadata": {},
   "outputs": [
    {
     "name": "stdout",
     "output_type": "stream",
     "text": [
      "make\n",
      "honda\n",
      "model\n",
      "fit\n",
      "year\n",
      "2006\n",
      "k = 'make' dylan_car_dict[k] = 'honda'\n",
      "k = 'model' dylan_car_dict[k] = 'fit'\n",
      "k = 'year' dylan_car_dict[k] = 2006\n"
     ]
    }
   ],
   "source": [
    "# .keys()\n",
    "#we can loop through\n",
    "\n",
    "dylan_car_dict.keys()\n",
    "\n",
    "for k in dylan_car_dict.keys():\n",
    "    print(k)\n",
    "    print(dylan_car_dict[k])\n",
    "    \n",
    "\n",
    "for k in dylan_car_dict.keys():\n",
    "    print(f'{k = } {dylan_car_dict[k] = }' )\n",
    "    "
   ]
  },
  {
   "cell_type": "code",
   "execution_count": null,
   "metadata": {},
   "outputs": [],
   "source": [
    "for k in dylan_car_dict:\n",
    "    print(k)\n",
    "    print(dylan_car_dict)"
   ]
  },
  {
   "cell_type": "markdown",
   "metadata": {},
   "source": [
    "##### Looping Only Values"
   ]
  },
  {
   "cell_type": "code",
   "execution_count": null,
   "metadata": {},
   "outputs": [],
   "source": [
    "# .values()\n",
    "\n",
    "print(type(dylan_car_dict.values()))\n",
    "\n",
    "for car_info in dylan_car_dict.values():\n",
    "    print(car_info)\n",
    "    #cannot get key from value\n",
    "    #print(dylan_car_dict[car_info])"
   ]
  },
  {
   "cell_type": "markdown",
   "metadata": {},
   "source": [
    "## In-Class Exercise #2 - Create a Function that Prints All Key Value Pairs within a print .format() <br>\n",
    "<p><b>Output should be:</b><br>\n",
    "Max has blue eyes<br>\n",
    "Lilly has brown eyes<br>\n",
    "Barney has blue eyes<br>\n",
    "etc.\n",
    "</p>"
   ]
  },
  {
   "cell_type": "code",
   "execution_count": 27,
   "metadata": {},
   "outputs": [
    {
     "name": "stdout",
     "output_type": "stream",
     "text": [
      "Max has blue eyes\n",
      "Lilly has brown eyes\n",
      "Barney has blue eyes\n",
      "Larney has brown eyes\n",
      "Ted has purple eyes\n"
     ]
    }
   ],
   "source": [
    "# use the dict below\n",
    "\n",
    "people = {\n",
    "    'Max': 'blue',\n",
    "    'Lilly': 'brown',\n",
    "    'Barney': 'blue',\n",
    "    'Larney': 'brown',\n",
    "    'Ted': 'purple'\n",
    "}\n",
    "\n",
    "for key in people:\n",
    "    print(f\"{key} has {people[key]} eyes\")\n"
   ]
  },
  {
   "cell_type": "code",
   "execution_count": 32,
   "metadata": {},
   "outputs": [
    {
     "name": "stdout",
     "output_type": "stream",
     "text": [
      "{1: 5, 7: 4, 8: 3}\n",
      "{1: 1}\n",
      "{1: 2}\n",
      "{1: 2, 7: 1}\n",
      "{1: 3, 7: 1}\n",
      "{1: 3, 7: 2}\n",
      "{1: 3, 7: 2, 8: 1}\n",
      "{1: 4, 7: 2, 8: 1}\n",
      "{1: 4, 7: 2, 8: 2}\n",
      "{1: 4, 7: 2, 8: 3}\n",
      "{1: 4, 7: 3, 8: 3}\n",
      "{1: 4, 7: 4, 8: 3}\n",
      "{1: 5, 7: 4, 8: 3}\n"
     ]
    }
   ],
   "source": [
    "#create a function that takes in a list of numbers and returns the number that occurs the most time\n",
    "\n",
    "#ex input - [1,1,7,1,7,8,1,8,8,7,7,1]\n",
    "#output -> 1\n",
    "\n",
    "def most_occur(num_list):\n",
    "    num_count = {}\n",
    "    for num in num_list:\n",
    "        if num not in num_count:\n",
    "            num_count[num] = 0\n",
    "        num_count[num] += 1\n",
    "    print(num_count)\n",
    "    max_value = 0\n",
    "    output = None\n",
    "    for num, count in num_count.items():\n",
    "        if count > max_value:\n",
    "            max_value = count\n",
    "            output = num\n",
    "    return output\n",
    "\n",
    "most_occur([1,1,7,1,7,8,1,8,8,7,7,1])\n",
    "\n",
    "\n",
    "# create a function that takes in a list of numbers and returns the number that occurs the most times\n",
    "\n",
    "# ex input - [1,1,7,1,7,8,1,8,8,7,7,1] \n",
    "# output -> 1\n",
    "\n",
    "def most_occur(num_list):\n",
    "    num_count = {}\n",
    "    for num in num_list:\n",
    "        if num not in num_count:\n",
    "            num_count[num] = 0\n",
    "        num_count[num] += 1\n",
    "        print(num_count)\n",
    "    max_value = 0\n",
    "    output = None\n",
    "    for num,count in num_count.items():\n",
    "        if count > max_value:\n",
    "            max_value = count\n",
    "            output = num\n",
    "    return output\n",
    "\n",
    "most_occur([1,1,7,1,7,8,1,8,8,7,7,1] )\n",
    "\n",
    "\n",
    "def most_occur2(num_list):\n",
    "    num_count = {}\n",
    "    for num in num_list:\n",
    "        num_count[num] = num_count.get(num, 0) + 1\n",
    "    max_value = 0\n",
    "    output = None\n",
    "    for num,count in num_count.items():\n",
    "        if count > max_value:\n",
    "            max_value = count\n",
    "            output = num\n",
    "    return output"
   ]
  },
  {
   "cell_type": "markdown",
   "metadata": {},
   "source": [
    "##### sorted()"
   ]
  },
  {
   "cell_type": "code",
   "execution_count": 34,
   "metadata": {},
   "outputs": [
    {
     "data": {
      "text/plain": [
       "[('Barney', 'blue'),\n",
       " ('Larney', 'brown'),\n",
       " ('Lilly', 'brown'),\n",
       " ('Max', 'blue'),\n",
       " ('Ted', 'purple')]"
      ]
     },
     "execution_count": 34,
     "metadata": {},
     "output_type": "execute_result"
    }
   ],
   "source": [
    "# sorts variables in order\n",
    "# sorted(dict.values()) or dict.keys() or dict.items()\n",
    "\n",
    "\n",
    "sorted(people)\n",
    "\n",
    "sorted(people.values())\n",
    "\n",
    "sorted(people.items())\n"
   ]
  },
  {
   "cell_type": "markdown",
   "metadata": {},
   "source": [
    "##### List with Dictionaries"
   ]
  },
  {
   "cell_type": "code",
   "execution_count": 52,
   "metadata": {},
   "outputs": [
    {
     "name": "stdout",
     "output_type": "stream",
     "text": [
      "Bob Dylan is 45 years old and plays harmonica, guitar\n"
     ]
    }
   ],
   "source": [
    "rockstars = [\n",
    "    {\n",
    "        'name' : 'Jimi',\n",
    "        'age' : 32,\n",
    "        'instruments' : ['guitar', 'keyboard', 'drums']\n",
    "    },\n",
    "    {\n",
    "        'name' : 'Sean',\n",
    "        'age' : 24,\n",
    "        'instruments' : ['bass', 'sax']\n",
    "    },\n",
    "    {\n",
    "        'name': 'Bob Dylan',\n",
    "        'age' : 45,\n",
    "        'instruments' : ['harmonica, guitar']\n",
    "    }\n",
    "]\n",
    "\n",
    "rockstars[1]['age']\n",
    "\n",
    "for dic in rockstars:\n",
    "    for k in i:\n",
    "        if k == 'instruments':\n",
    "            print(dic[k][1])\n",
    "            \n",
    "\n",
    "print('{} is {} years old and plays {}'.format(rockstars[2]['name'], rockstars[2]['age'], rockstars[2]['instruments'][0]))"
   ]
  },
  {
   "cell_type": "code",
   "execution_count": null,
   "metadata": {},
   "outputs": [],
   "source": [
    "#enumerate\n",
    "\n",
    "letter_list =['a', 'b', 'c']\n",
    "\n",
    "print(list(enumerate(letter_list)))"
   ]
  },
  {
   "cell_type": "markdown",
   "metadata": {},
   "source": [
    "##### Dictionaries with Lists"
   ]
  },
  {
   "cell_type": "code",
   "execution_count": 53,
   "metadata": {},
   "outputs": [
    {
     "ename": "SyntaxError",
     "evalue": "invalid syntax (2582076156.py, line 6)",
     "output_type": "error",
     "traceback": [
      "\u001b[1;36m  Cell \u001b[1;32mIn[53], line 6\u001b[1;36m\u001b[0m\n\u001b[1;33m    'car-year' : 2020,\u001b[0m\n\u001b[1;37m               ^\u001b[0m\n\u001b[1;31mSyntaxError\u001b[0m\u001b[1;31m:\u001b[0m invalid syntax\n"
     ]
    }
   ],
   "source": [
    "# be careful when using numbers as keys in dictionaries, don't confuse them with indexes\n",
    "\n",
    "sean = {\n",
    "    'career' : 'rockstar',\n",
    "    'car' : 'tesla'\n",
    "    'car-year' : 2020,\n",
    "    'hobbies': ['disc golf', 'pool world championships', 'coding instructor']\n",
    "}\n"
   ]
  },
  {
   "cell_type": "markdown",
   "metadata": {},
   "source": [
    "##### Dictionaries with Dictionaries"
   ]
  },
  {
   "cell_type": "code",
   "execution_count": 55,
   "metadata": {},
   "outputs": [
    {
     "ename": "NameError",
     "evalue": "name 'sean' is not defined",
     "output_type": "error",
     "traceback": [
      "\u001b[1;31m---------------------------------------------------------------------------\u001b[0m",
      "\u001b[1;31mNameError\u001b[0m                                 Traceback (most recent call last)",
      "Cell \u001b[1;32mIn[55], line 2\u001b[0m\n\u001b[0;32m      1\u001b[0m \u001b[38;5;66;03m# to get values, must traverse through keys\u001b[39;00m\n\u001b[1;32m----> 2\u001b[0m \u001b[43msean\u001b[49m[\u001b[38;5;124m'\u001b[39m\u001b[38;5;124mcar\u001b[39m\u001b[38;5;124m'\u001b[39m] \u001b[38;5;241m=\u001b[39m {\n\u001b[0;32m      3\u001b[0m     \u001b[38;5;124m'\u001b[39m\u001b[38;5;124mmake\u001b[39m\u001b[38;5;124m'\u001b[39m : \u001b[38;5;124m'\u001b[39m\u001b[38;5;124mtesla\u001b[39m\u001b[38;5;124m'\u001b[39m,\n\u001b[0;32m      4\u001b[0m     \u001b[38;5;124m'\u001b[39m\u001b[38;5;124myear\u001b[39m\u001b[38;5;124m'\u001b[39m : \u001b[38;5;241m2020\u001b[39m\n\u001b[0;32m      5\u001b[0m }\n\u001b[0;32m      7\u001b[0m \u001b[38;5;28mprint\u001b[39m(sean)\n\u001b[0;32m      9\u001b[0m sean\u001b[38;5;241m.\u001b[39mpop(\u001b[38;5;124m'\u001b[39m\u001b[38;5;124mcar-year\u001b[39m\u001b[38;5;124m'\u001b[39m)\n",
      "\u001b[1;31mNameError\u001b[0m: name 'sean' is not defined"
     ]
    }
   ],
   "source": [
    "# to get values, must traverse through keys\n",
    "\n",
    "sean['car'] = {\n",
    "    'make' : 'tesla',\n",
    "    'year' : 2020\n",
    "}\n",
    "\n",
    "print(sean)\n",
    "\n",
    "sean.pop('car-year')\n",
    "\n",
    "print(sean)\n"
   ]
  },
  {
   "cell_type": "code",
   "execution_count": 59,
   "metadata": {},
   "outputs": [
    {
     "ename": "SyntaxError",
     "evalue": "invalid syntax. Perhaps you forgot a comma? (3048404359.py, line 2)",
     "output_type": "error",
     "traceback": [
      "\u001b[1;36m  Cell \u001b[1;32mIn[59], line 2\u001b[1;36m\u001b[0m\n\u001b[1;33m    'bread': {\u001b[0m\n\u001b[1;37m             ^\u001b[0m\n\u001b[1;31mSyntaxError\u001b[0m\u001b[1;31m:\u001b[0m invalid syntax. Perhaps you forgot a comma?\n"
     ]
    }
   ],
   "source": [
    "shopping_cart = {\n",
    "    'bread': {\n",
    "        'quantity': 4,\n",
    "        'price': 7\n",
    "    }\n",
    "    'milk': {\n",
    "        'quantity': 5,\n",
    "        'price' : 8\n",
    "    }\n",
    "}\n",
    "\n",
    "def format_item(item):\n",
    "    return f'{item} price: {shopping_cart[item] ['price']} quantity: {shopping-cart{item} [\"quantity\"]}'\n",
    "\n",
    "print(format_item('bread'))\n",
    "print(format_item('milk'))"
   ]
  },
  {
   "cell_type": "markdown",
   "metadata": {},
   "source": [
    "## Dictionaries vs. Lists (over time) Example of RUNTIME\n",
    "### When inputting values in a Dictionary vs List"
   ]
  },
  {
   "cell_type": "code",
   "execution_count": 60,
   "metadata": {},
   "outputs": [],
   "source": [
    "import time\n",
    "\n",
    "\n",
    "# generate fake dictionary\n",
    "d = {}\n",
    "\n",
    "for i in range(10000000):\n",
    "    d[i] = 'value'\n",
    "    \n",
    "\n",
    "# generate fake list\n",
    "big_list = [x for x in range(10000000)]"
   ]
  },
  {
   "cell_type": "code",
   "execution_count": 61,
   "metadata": {},
   "outputs": [
    {
     "name": "stdout",
     "output_type": "stream",
     "text": [
      "value\n",
      "Elapsed time for dictionary: 0.0\n",
      "9999999\n",
      "Elapsed time for list: 0.8310327529907227\n"
     ]
    }
   ],
   "source": [
    "# tracking time for dictionary\n",
    "start_time = time.time()\n",
    "\n",
    "print(d[9999999])\n",
    "\n",
    "end_time = time.time() - start_time\n",
    "\n",
    "print('Elapsed time for dictionary: {}'.format(end_time))\n",
    "\n",
    "\n",
    "# tracking time for list\n",
    "start_time = time.time()\n",
    "\n",
    "for i in range(len(big_list)):\n",
    "    if i == 9999999:\n",
    "        print(i)\n",
    "\n",
    "end_time = time.time() - start_time\n",
    "\n",
    "print('Elapsed time for list: {}'.format(end_time))"
   ]
  },
  {
   "cell_type": "markdown",
   "metadata": {},
   "source": [
    "## Exercise #3 - Write a Function that asks someone's name and address, and then stores that into a dictionary, and continues to do so until they choose to 'quit'. Once they quit, the program should print all names and addresses. <br>\n",
    "<p>\n",
    "<b>Proper steps:</b><br>\n",
    "step 1: write a function that takes in information and stores it in a dictionary<br>\n",
    "step 2: define an empty dictionary to work with<br>\n",
    "step 3: create our loop, which asks the user for information until they quit<br>\n",
    "step 4: ask for the information, and store it into variables<br>\n",
    "step 5: check if the user types quit<br>\n",
    "step 5a: print out all information<br>\n",
    "step 5b: break out of the loop<br>\n",
    "step 6: if they didn't quit, add the information to the dictionary<br>\n",
    "step 7: invoke the function by calling it\n",
    "</p>"
   ]
  },
  {
   "cell_type": "code",
   "execution_count": 62,
   "metadata": {},
   "outputs": [
    {
     "name": "stdout",
     "output_type": "stream",
     "text": [
      "Please add a name: sss\n",
      "Please add an address: ssss\n",
      "Would you like to 'quit'? yes\n",
      "Please add a name: sss\n",
      "Please add an address: s\n",
      "Would you like to 'quit'? \n",
      "Please add a name: s\n",
      "Please add an address: s\n",
      "Would you like to 'quit'? s\n",
      "Please add a name: s\n",
      "Please add an address: s\n",
      "Would you like to 'quit'? s\n",
      "Please add a name: s\n",
      "Please add an address: s\n",
      "Would you like to 'quit'? quit\n",
      "[{'name': 'sss', 'address': 'ssss'}, {'name': 'sss', 'address': 's'}, {'name': 's', 'address': 's'}, {'name': 's', 'address': 's'}, {'name': 's', 'address': 's'}]\n"
     ]
    }
   ],
   "source": [
    "from IPython.display import clear_output\n",
    "\n",
    "all_info = []\n",
    "while True:\n",
    "    name_input = input(\"Please add a name: \")\n",
    "    add_input = input(\"Please add an address: \")\n",
    "    diction = {'name' : name_input,\n",
    "                'address' : add_input\n",
    "              }\n",
    "    all_info.append(diction)\n",
    "    user_input = input(\"Would you like to 'quit'? \")\n",
    "    if user_input == 'quit':\n",
    "        break\n",
    "print(all_info)\n",
    "        "
   ]
  },
  {
   "cell_type": "markdown",
   "metadata": {},
   "source": [
    "## Set <br>\n",
    "<p>A Set is an unordered collection data type that is iterable (loop), mutable, and has no duplicate elements.<br>Major advantage is that it is highly optimized in checking if something is in the set, as opposed to checking if something is in a list.</p>"
   ]
  },
  {
   "cell_type": "markdown",
   "metadata": {},
   "source": [
    "##### Declaring"
   ]
  },
  {
   "cell_type": "code",
   "execution_count": 65,
   "metadata": {},
   "outputs": [
    {
     "name": "stdout",
     "output_type": "stream",
     "text": [
      "{1, 2, 3}\n"
     ]
    },
    {
     "data": {
      "text/plain": [
       "set"
      ]
     },
     "execution_count": 65,
     "metadata": {},
     "output_type": "execute_result"
    }
   ],
   "source": [
    "# set() or {}\n",
    "# no order {3, 2, 1} outputs as {1, 2, 3}\n",
    "\n",
    "my_set = {'a', 'b', 'c'}\n",
    "\n",
    "type(my_set)\n",
    "\n",
    "another_set = set((1,2,3))\n",
    "print(another_set)\n",
    "type(another_set)"
   ]
  },
  {
   "cell_type": "markdown",
   "metadata": {},
   "source": [
    "##### .add()"
   ]
  },
  {
   "cell_type": "code",
   "execution_count": 71,
   "metadata": {},
   "outputs": [
    {
     "data": {
      "text/plain": [
       "{'ben', 'christian', 'david', 'michael', 'sima'}"
      ]
     },
     "execution_count": 71,
     "metadata": {},
     "output_type": "execute_result"
    }
   ],
   "source": [
    "# set.add()\n",
    "students = set()\n",
    "\n",
    "students.add('michael')\n",
    "students.add('christian')\n",
    "\n",
    "students\n",
    "\n",
    "students.add('david')\n",
    "students.add('sima')\n",
    "students.add('ben')\n",
    "students.add('ben')\n",
    "students"
   ]
  },
  {
   "cell_type": "markdown",
   "metadata": {},
   "source": [
    "##### .remove()"
   ]
  },
  {
   "cell_type": "code",
   "execution_count": 68,
   "metadata": {},
   "outputs": [
    {
     "name": "stdout",
     "output_type": "stream",
     "text": [
      "{'christian'}\n"
     ]
    }
   ],
   "source": [
    "# removes by value\n",
    "# set.remove()\n",
    "# nums.remove(56)\n",
    "#remove throws an error if value is not present in set\n",
    "students.remove('michael')\n",
    "\n",
    "print(students)\n",
    "\n",
    "#students.remove('david')\n"
   ]
  },
  {
   "cell_type": "code",
   "execution_count": null,
   "metadata": {},
   "outputs": [],
   "source": [
    "#discard\n",
    "#also removes element by value\n",
    "#doesn't break if values is not present"
   ]
  },
  {
   "cell_type": "markdown",
   "metadata": {},
   "source": [
    "##### .union() "
   ]
  },
  {
   "cell_type": "code",
   "execution_count": 74,
   "metadata": {},
   "outputs": [
    {
     "name": "stdout",
     "output_type": "stream",
     "text": [
      "{'michael', 'ben', 'david', 'sima', 'tajay, mehrab', 'christian'}\n"
     ]
    },
    {
     "data": {
      "text/plain": [
       "{'ben', 'christian', 'david', 'hamed', 'michael', 'sima', 'todd', 'yea'}"
      ]
     },
     "execution_count": 74,
     "metadata": {},
     "output_type": "execute_result"
    }
   ],
   "source": [
    "# Returns a union of two sets, can also use '|' or set.union(set)\n",
    "# joins all numbers, gets rid of duplicates\n",
    "\n",
    "print(students.union({'tajay, mehrab'}))\n",
    "\n",
    "students | {'todd', 'yea', 'hamed'}"
   ]
  },
  {
   "cell_type": "markdown",
   "metadata": {},
   "source": [
    "##### .intersection()"
   ]
  },
  {
   "cell_type": "code",
   "execution_count": 76,
   "metadata": {},
   "outputs": [
    {
     "name": "stdout",
     "output_type": "stream",
     "text": [
      "{'michael', 'tajay'}\n",
      "{'michael', 'tajay'}\n"
     ]
    }
   ],
   "source": [
    "# Returns an intersection of two sets, can also use '&'\n",
    "# only takes similar elements from both sets\n",
    "\n",
    "monday_attendance = {'michael', 'christian', 'tajay', 'ben c'}\n",
    "\n",
    "friday_attendance = {'michael', 'tajay', 'david', 'mehrab'}\n",
    "\n",
    "perfect_attendance = monday_attendance.intersection(friday_attendance)\n",
    "print(perfect_attendance)\n",
    "\n",
    "print(monday_attendance & friday_attendance)"
   ]
  },
  {
   "cell_type": "markdown",
   "metadata": {},
   "source": [
    "##### .difference()"
   ]
  },
  {
   "cell_type": "code",
   "execution_count": 78,
   "metadata": {},
   "outputs": [
    {
     "name": "stdout",
     "output_type": "stream",
     "text": [
      "{'david', 'mehrab'}\n"
     ]
    }
   ],
   "source": [
    "# Returns a set containing all the elements of invoking set that are not in the second set, can also use '-'\n",
    "# only takes values from the first set that are not in the second set\n",
    "# order matters\n",
    "\n",
    "monday_attendance - friday_attendance\n",
    "\n",
    "print(friday_attendance.difference(monday_attendance)) #checks to see who was here on friday but not monday"
   ]
  },
  {
   "cell_type": "markdown",
   "metadata": {},
   "source": [
    "##### .clear()"
   ]
  },
  {
   "cell_type": "code",
   "execution_count": 79,
   "metadata": {},
   "outputs": [
    {
     "data": {
      "text/plain": [
       "set()"
      ]
     },
     "execution_count": 79,
     "metadata": {},
     "output_type": "execute_result"
    }
   ],
   "source": [
    "# Empties the whole set\n",
    "# set.clear()\n",
    "students.clear()\n",
    "\n",
    "students"
   ]
  },
  {
   "cell_type": "markdown",
   "metadata": {},
   "source": [
    "##### Frozenset <br>\n",
    "<p>Frozen sets are immutable objects that only support methods and operators that produce a result without affecting the frozen set or sets to which they are applied.</p><br><b>Unique & Immutable</b>"
   ]
  },
  {
   "cell_type": "code",
   "execution_count": 81,
   "metadata": {},
   "outputs": [
    {
     "name": "stdout",
     "output_type": "stream",
     "text": [
      "frozenset({'wednesday', 'tuesday', 'thursday', 'monday'})\n",
      "{'wednesday', 'tuesday', 'thursday', 'monday'}\n"
     ]
    }
   ],
   "source": [
    "# frozenset([])\n",
    "days = frozenset(['monday', 'tuesday', 'wednesday','thursday'])\n",
    "print(days)\n",
    "\n",
    "days_unfrozen = set(days)\n",
    "\n",
    "print(days_unfrozen)"
   ]
  },
  {
   "cell_type": "markdown",
   "metadata": {},
   "source": [
    "## Modules"
   ]
  },
  {
   "cell_type": "markdown",
   "metadata": {},
   "source": [
    "##### Importing Entire Modules"
   ]
  },
  {
   "cell_type": "code",
   "execution_count": 85,
   "metadata": {},
   "outputs": [
    {
     "name": "stdout",
     "output_type": "stream",
     "text": [
      "3.141592653589793\n",
      "Hello Mr/Ms sean...we've been waiting for you!\n"
     ]
    }
   ],
   "source": [
    "# import or from 'xxx' import *\n",
    "import math\n",
    "\n",
    "print(math.pi)\n",
    "\n",
    "import module\n",
    "\n",
    "module.printName('sean')"
   ]
  },
  {
   "cell_type": "markdown",
   "metadata": {},
   "source": [
    "##### Importing Methods Only"
   ]
  },
  {
   "cell_type": "code",
   "execution_count": 87,
   "metadata": {},
   "outputs": [
    {
     "name": "stdout",
     "output_type": "stream",
     "text": [
      "Hello Mr/Ms sean...we've been waiting for you!\n"
     ]
    },
    {
     "data": {
      "text/plain": [
       "3.141592653589793"
      ]
     },
     "execution_count": 87,
     "metadata": {},
     "output_type": "execute_result"
    }
   ],
   "source": [
    "# from 'xxx' import 'xxx'\n",
    "# from math import floor\n",
    "\n",
    "from module import printName\n",
    "printName('sean')\n",
    "\n",
    "from math import pi\n",
    "pi\n",
    "\n"
   ]
  },
  {
   "cell_type": "markdown",
   "metadata": {},
   "source": [
    "##### Using the 'as' Keyword"
   ]
  },
  {
   "cell_type": "code",
   "execution_count": 89,
   "metadata": {},
   "outputs": [
    {
     "name": "stdout",
     "output_type": "stream",
     "text": [
      "Hello Mr/Ms sean...we've been waiting for you!\n"
     ]
    }
   ],
   "source": [
    "# from 'xxx' import 'xxx' as 'xxx' or import 'xxx' as 'xxx'\n",
    "# from math import floor as f\n",
    "\n",
    "from module import printName as pN\n",
    "\n",
    "pN('sean')\n"
   ]
  },
  {
   "cell_type": "markdown",
   "metadata": {},
   "source": [
    "##### Creating a Module"
   ]
  },
  {
   "cell_type": "code",
   "execution_count": 1,
   "metadata": {},
   "outputs": [
    {
     "data": {
      "text/plain": [
       "14"
      ]
     },
     "execution_count": 1,
     "metadata": {},
     "output_type": "execute_result"
    }
   ],
   "source": [
    "from module import adder\n",
    "\n",
    "adder(5,9)"
   ]
  },
  {
   "cell_type": "markdown",
   "metadata": {},
   "source": [
    "# Exercises"
   ]
  },
  {
   "cell_type": "markdown",
   "metadata": {},
   "source": [
    "### 1) Build a Shopping Cart <br>\n",
    "<p><b>You can use either lists or dictionaries. The program should have the following capabilities:</b><br><br>\n",
    "1) Takes in input <br>\n",
    "2) Stores user input into a dictionary or list <br>\n",
    "3) The User can add or delete items <br>\n",
    "4) The User can see current shopping list <br>\n",
    "5) The program Loops until user 'quits' <br>\n",
    "6) Upon quiting the program, print out all items in the user's list <br>\n",
    "</p>"
   ]
  },
  {
   "cell_type": "code",
   "execution_count": 12,
   "metadata": {
    "scrolled": true
   },
   "outputs": [
    {
     "name": "stdout",
     "output_type": "stream",
     "text": [
      "Please choose an option. Enter one of the following commands\n",
      " add or quit? add\n",
      " Enter item to add: milk\n",
      "Enter an option. You can enter one of the following (without the quotes): 'add', 'show', 'delete', or 'quit' show\n",
      "['milk']\n",
      "Enter an option. You can enter one of the following (without the quotes): 'add', 'show', 'delete', or 'quit' add\n",
      " Enter item to add: bread\n",
      "Enter an option. You can enter one of the following (without the quotes): 'add', 'show', 'delete', or 'quit' show\n",
      "['milk', 'bread']\n",
      "Enter an option. You can enter one of the following (without the quotes): 'add', 'show', 'delete', or 'quit' add\n",
      " Enter item to add: cereal\n",
      "Enter an option. You can enter one of the following (without the quotes): 'add', 'show', 'delete', or 'quit' show\n",
      "['milk', 'bread', 'cereal']\n",
      "Enter an option. You can enter one of the following (without the quotes): 'add', 'show', 'delete', or 'quit' delete\n",
      " Enter an item to delete: cereal\n",
      "Enter an option. You can enter one of the following (without the quotes): 'add', 'show', 'delete', or 'quit' quit\n",
      "['milk', 'bread']\n"
     ]
    }
   ],
   "source": [
    "from IPython.display import clear_output\n",
    "\n",
    "# Ask the user four bits of input: Do you want to : Show/Add/Delete or Quit?\n",
    "\n",
    "items_list = []\n",
    "#input_items = input(\"Please choose an option. Enter one of the following commands\")\n",
    "print(\"Please choose an option. Enter one of the following commands\")\n",
    "user_quit = False\n",
    "while user_quit != True:\n",
    "    if len(items_list) == 0:\n",
    "        user_input = input(\" add or quit? \")\n",
    "    else:\n",
    "        user_input = input(\"Enter an option. You can enter one of the following (without the quotes): 'add', 'show', 'delete', or 'quit' \" )\n",
    "    #if user_input = add, add an item to list\n",
    "    if user_input == 'add':\n",
    "        addedItem = input(\" Enter item to add: \")\n",
    "        items_list.append(addedItem)\n",
    "    #elif user_input = show, print list\n",
    "    elif user_input == 'show':\n",
    "        print(items_list)\n",
    "    #elif user_input = delete, delete an item from list\n",
    "    elif user_input == 'delete':\n",
    "        deleteItem = input(\" Enter an item to delete: \")\n",
    "        items_list.remove(deleteItem)\n",
    "    #elif user_input = quit, quit the program\n",
    "    elif user_input == 'quit':\n",
    "        user_quit = True\n",
    "print(items_list)\n",
    "\n",
    "    \n",
    "#add function\n",
    "#def addItem(user_input):\n",
    "    #add user_input to items_list (try .append())\n",
    "    \n",
    "#show function\n",
    "    #print items_list\n",
    "\n",
    "#delete function\n",
    "#def deleteItem(user_input):\n",
    "    #remove user_input from items_list (try .remove())\n"
   ]
  },
  {
   "cell_type": "markdown",
   "metadata": {},
   "source": [
    "### 2) Create a Module in VS Code and Import It into jupyter notebook <br>\n",
    "<p><b>Module should have the following capabilities:</b><br><br>\n",
    "1) Has a function to calculate the square footage of a house <br>\n",
    "    <b>Reminder of Formula: Length X Width == Area<br>\n",
    "        <hr>\n",
    "2) Has a function to calculate the circumference of a circle <br><br>\n",
    "<b>Program in Jupyter Notebook should take in user input and use imported functions to calculate a circle's circumference or a houses square footage</b>\n",
    "</p>"
   ]
  },
  {
   "cell_type": "code",
   "execution_count": 21,
   "metadata": {},
   "outputs": [
    {
     "name": "stdout",
     "output_type": "stream",
     "text": [
      "Enter an Option: \n",
      "[1] - Area \n",
      "[2] - Circumfrence \n",
      "[q] - Quit \n",
      " >2\n",
      "Enter Radius: 66\n",
      "Radius is: 414.6902302738527\n",
      "Enter an Option: \n",
      "[1] - Area \n",
      "[2] - Circumfrence \n",
      "[q] - Quit \n",
      " >1\n",
      "Enter Length: 15\n",
      "Enter Width: 20\n",
      "Area is: 300\n",
      "Enter an Option: \n",
      "[1] - Area \n",
      "[2] - Circumfrence \n",
      "[q] - Quit \n",
      " >2\n",
      "Enter Radius: 13\n",
      "Radius is: 81.68140899333463\n",
      "Enter an Option: \n",
      "[1] - Area \n",
      "[2] - Circumfrence \n",
      "[q] - Quit \n",
      " >1\n",
      "Enter Length: 675\n",
      "Enter Width: 3000\n",
      "Area is: 2025000\n",
      "Enter an Option: \n",
      "[1] - Area \n",
      "[2] - Circumfrence \n",
      "[q] - Quit \n",
      " >q\n",
      "Ending script execution. . .\n"
     ]
    }
   ],
   "source": [
    "from hw import area_formula\n",
    "from hw import circumfrence_formula\n",
    "\n",
    "user_quit = False\n",
    "while user_quit != True:\n",
    "    #take in user input to decide which path to take\n",
    "    user_input = input(\"Enter an Option: \\n[1] - Area \\n[2] - Circumfrence \\n[q] - Quit \\n > \")\n",
    "    \n",
    "    # Area Formula Selected\n",
    "    if user_input == '1':\n",
    "        #prompt user to input length and width\n",
    "        lengthInput = input(\"Enter Length: \")\n",
    "        widthInput = input(\"Enter Width: \")\n",
    "        #pass length and width into the area_formula and cast them as integers. Set area = returned value\n",
    "        area = area_formula(int(lengthInput),int(widthInput))\n",
    "        #print result using {} to tell .format() where to put the passed in parameter in the string\n",
    "        #this allowed me to skip converting area into a string before printing\n",
    "        print(\"Area is: {}\".format(area))\n",
    "    \n",
    "    #Circumfrence Formula Selected\n",
    "    elif user_input == '2':\n",
    "        #prompt user to input radius\n",
    "        radiusInput = input(\"Enter Radius: \")\n",
    "        #pass radius into the circumfrence_formula and cast it as an integer. Set circumfrence = returned value\n",
    "        circumfrence = circumfrence_formula(int(radiusInput))\n",
    "        #print result using {} to tell .format() where to put the passed in parameter in the string\n",
    "        #this allowed me to skip converting area into a string before printing\n",
    "        print(\"Radius is: {}\".format(circumfrence))\n",
    "    \n",
    "    #Quit Option Selected\n",
    "    elif user_input == 'q' or user_input == 'Q':\n",
    "        #Print a message to let the user know we mean to stop running\n",
    "        print(\"Ending script execution. . .\")\n",
    "        #Set flag to break out of the while loop\n",
    "        user_quit = True\n",
    "\n",
    "\n"
   ]
  },
  {
   "cell_type": "code",
   "execution_count": null,
   "metadata": {},
   "outputs": [],
   "source": []
  }
 ],
 "metadata": {
  "kernelspec": {
   "display_name": "Python 3 (ipykernel)",
   "language": "python",
   "name": "python3"
  },
  "language_info": {
   "codemirror_mode": {
    "name": "ipython",
    "version": 3
   },
   "file_extension": ".py",
   "mimetype": "text/x-python",
   "name": "python",
   "nbconvert_exporter": "python",
   "pygments_lexer": "ipython3",
   "version": "3.10.9"
  }
 },
 "nbformat": 4,
 "nbformat_minor": 2
}
